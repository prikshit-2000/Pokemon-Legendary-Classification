{
 "cells": [
  {
   "cell_type": "code",
   "execution_count": 1,
   "metadata": {},
   "outputs": [],
   "source": [
    "import numpy as np\n",
    "import pandas as pd"
   ]
  },
  {
   "cell_type": "code",
   "execution_count": 143,
   "metadata": {},
   "outputs": [
    {
     "data": {
      "text/html": [
       "<div>\n",
       "<style scoped>\n",
       "    .dataframe tbody tr th:only-of-type {\n",
       "        vertical-align: middle;\n",
       "    }\n",
       "\n",
       "    .dataframe tbody tr th {\n",
       "        vertical-align: top;\n",
       "    }\n",
       "\n",
       "    .dataframe thead th {\n",
       "        text-align: right;\n",
       "    }\n",
       "</style>\n",
       "<table border=\"1\" class=\"dataframe\">\n",
       "  <thead>\n",
       "    <tr style=\"text-align: right;\">\n",
       "      <th></th>\n",
       "      <th>#</th>\n",
       "      <th>Name</th>\n",
       "      <th>Type 1</th>\n",
       "      <th>Type 2</th>\n",
       "      <th>Total</th>\n",
       "      <th>HP</th>\n",
       "      <th>Attack</th>\n",
       "      <th>Defense</th>\n",
       "      <th>Sp. Atk</th>\n",
       "      <th>Sp. Def</th>\n",
       "      <th>Speed</th>\n",
       "      <th>Generation</th>\n",
       "      <th>Legendary</th>\n",
       "    </tr>\n",
       "  </thead>\n",
       "  <tbody>\n",
       "    <tr>\n",
       "      <th>795</th>\n",
       "      <td>719</td>\n",
       "      <td>Diancie</td>\n",
       "      <td>Rock</td>\n",
       "      <td>Fairy</td>\n",
       "      <td>600</td>\n",
       "      <td>50</td>\n",
       "      <td>100</td>\n",
       "      <td>150</td>\n",
       "      <td>100</td>\n",
       "      <td>150</td>\n",
       "      <td>50</td>\n",
       "      <td>6</td>\n",
       "      <td>True</td>\n",
       "    </tr>\n",
       "    <tr>\n",
       "      <th>796</th>\n",
       "      <td>719</td>\n",
       "      <td>DiancieMega Diancie</td>\n",
       "      <td>Rock</td>\n",
       "      <td>Fairy</td>\n",
       "      <td>700</td>\n",
       "      <td>50</td>\n",
       "      <td>160</td>\n",
       "      <td>110</td>\n",
       "      <td>160</td>\n",
       "      <td>110</td>\n",
       "      <td>110</td>\n",
       "      <td>6</td>\n",
       "      <td>True</td>\n",
       "    </tr>\n",
       "    <tr>\n",
       "      <th>797</th>\n",
       "      <td>720</td>\n",
       "      <td>HoopaHoopa Confined</td>\n",
       "      <td>Psychic</td>\n",
       "      <td>Ghost</td>\n",
       "      <td>600</td>\n",
       "      <td>80</td>\n",
       "      <td>110</td>\n",
       "      <td>60</td>\n",
       "      <td>150</td>\n",
       "      <td>130</td>\n",
       "      <td>70</td>\n",
       "      <td>6</td>\n",
       "      <td>True</td>\n",
       "    </tr>\n",
       "    <tr>\n",
       "      <th>798</th>\n",
       "      <td>720</td>\n",
       "      <td>HoopaHoopa Unbound</td>\n",
       "      <td>Psychic</td>\n",
       "      <td>Dark</td>\n",
       "      <td>680</td>\n",
       "      <td>80</td>\n",
       "      <td>160</td>\n",
       "      <td>60</td>\n",
       "      <td>170</td>\n",
       "      <td>130</td>\n",
       "      <td>80</td>\n",
       "      <td>6</td>\n",
       "      <td>True</td>\n",
       "    </tr>\n",
       "    <tr>\n",
       "      <th>799</th>\n",
       "      <td>721</td>\n",
       "      <td>Volcanion</td>\n",
       "      <td>Fire</td>\n",
       "      <td>Water</td>\n",
       "      <td>600</td>\n",
       "      <td>80</td>\n",
       "      <td>110</td>\n",
       "      <td>120</td>\n",
       "      <td>130</td>\n",
       "      <td>90</td>\n",
       "      <td>70</td>\n",
       "      <td>6</td>\n",
       "      <td>True</td>\n",
       "    </tr>\n",
       "  </tbody>\n",
       "</table>\n",
       "</div>"
      ],
      "text/plain": [
       "       #                 Name   Type 1 Type 2  Total  HP  Attack  Defense  \\\n",
       "795  719              Diancie     Rock  Fairy    600  50     100      150   \n",
       "796  719  DiancieMega Diancie     Rock  Fairy    700  50     160      110   \n",
       "797  720  HoopaHoopa Confined  Psychic  Ghost    600  80     110       60   \n",
       "798  720   HoopaHoopa Unbound  Psychic   Dark    680  80     160       60   \n",
       "799  721            Volcanion     Fire  Water    600  80     110      120   \n",
       "\n",
       "     Sp. Atk  Sp. Def  Speed  Generation  Legendary  \n",
       "795      100      150     50           6       True  \n",
       "796      160      110    110           6       True  \n",
       "797      150      130     70           6       True  \n",
       "798      170      130     80           6       True  \n",
       "799      130       90     70           6       True  "
      ]
     },
     "execution_count": 143,
     "metadata": {},
     "output_type": "execute_result"
    }
   ],
   "source": [
    "data=pd.read_csv('pokemon.csv')\n",
    "data.tail()"
   ]
  },
  {
   "cell_type": "code",
   "execution_count": 3,
   "metadata": {},
   "outputs": [
    {
     "data": {
      "text/plain": [
       "(800, 13)"
      ]
     },
     "execution_count": 3,
     "metadata": {},
     "output_type": "execute_result"
    }
   ],
   "source": [
    "data.shape"
   ]
  },
  {
   "cell_type": "code",
   "execution_count": 6,
   "metadata": {},
   "outputs": [
    {
     "data": {
      "text/html": [
       "<div>\n",
       "<style scoped>\n",
       "    .dataframe tbody tr th:only-of-type {\n",
       "        vertical-align: middle;\n",
       "    }\n",
       "\n",
       "    .dataframe tbody tr th {\n",
       "        vertical-align: top;\n",
       "    }\n",
       "\n",
       "    .dataframe thead th {\n",
       "        text-align: right;\n",
       "    }\n",
       "</style>\n",
       "<table border=\"1\" class=\"dataframe\">\n",
       "  <thead>\n",
       "    <tr style=\"text-align: right;\">\n",
       "      <th></th>\n",
       "      <th>#</th>\n",
       "      <th>Name</th>\n",
       "      <th>Type 1</th>\n",
       "      <th>Type 2</th>\n",
       "      <th>Total</th>\n",
       "      <th>HP</th>\n",
       "      <th>Attack</th>\n",
       "      <th>Defense</th>\n",
       "      <th>Sp. Atk</th>\n",
       "      <th>Sp. Def</th>\n",
       "      <th>Speed</th>\n",
       "      <th>Generation</th>\n",
       "    </tr>\n",
       "  </thead>\n",
       "  <tbody>\n",
       "    <tr>\n",
       "      <th>0</th>\n",
       "      <td>1</td>\n",
       "      <td>Bulbasaur</td>\n",
       "      <td>Grass</td>\n",
       "      <td>Poison</td>\n",
       "      <td>318</td>\n",
       "      <td>45</td>\n",
       "      <td>49</td>\n",
       "      <td>49</td>\n",
       "      <td>65</td>\n",
       "      <td>65</td>\n",
       "      <td>45</td>\n",
       "      <td>1</td>\n",
       "    </tr>\n",
       "    <tr>\n",
       "      <th>1</th>\n",
       "      <td>2</td>\n",
       "      <td>Ivysaur</td>\n",
       "      <td>Grass</td>\n",
       "      <td>Poison</td>\n",
       "      <td>405</td>\n",
       "      <td>60</td>\n",
       "      <td>62</td>\n",
       "      <td>63</td>\n",
       "      <td>80</td>\n",
       "      <td>80</td>\n",
       "      <td>60</td>\n",
       "      <td>1</td>\n",
       "    </tr>\n",
       "    <tr>\n",
       "      <th>2</th>\n",
       "      <td>3</td>\n",
       "      <td>Venusaur</td>\n",
       "      <td>Grass</td>\n",
       "      <td>Poison</td>\n",
       "      <td>525</td>\n",
       "      <td>80</td>\n",
       "      <td>82</td>\n",
       "      <td>83</td>\n",
       "      <td>100</td>\n",
       "      <td>100</td>\n",
       "      <td>80</td>\n",
       "      <td>1</td>\n",
       "    </tr>\n",
       "    <tr>\n",
       "      <th>3</th>\n",
       "      <td>3</td>\n",
       "      <td>VenusaurMega Venusaur</td>\n",
       "      <td>Grass</td>\n",
       "      <td>Poison</td>\n",
       "      <td>625</td>\n",
       "      <td>80</td>\n",
       "      <td>100</td>\n",
       "      <td>123</td>\n",
       "      <td>122</td>\n",
       "      <td>120</td>\n",
       "      <td>80</td>\n",
       "      <td>1</td>\n",
       "    </tr>\n",
       "    <tr>\n",
       "      <th>4</th>\n",
       "      <td>4</td>\n",
       "      <td>Charmander</td>\n",
       "      <td>Fire</td>\n",
       "      <td>NaN</td>\n",
       "      <td>309</td>\n",
       "      <td>39</td>\n",
       "      <td>52</td>\n",
       "      <td>43</td>\n",
       "      <td>60</td>\n",
       "      <td>50</td>\n",
       "      <td>65</td>\n",
       "      <td>1</td>\n",
       "    </tr>\n",
       "  </tbody>\n",
       "</table>\n",
       "</div>"
      ],
      "text/plain": [
       "   #                   Name Type 1  Type 2  Total  HP  Attack  Defense  \\\n",
       "0  1              Bulbasaur  Grass  Poison    318  45      49       49   \n",
       "1  2                Ivysaur  Grass  Poison    405  60      62       63   \n",
       "2  3               Venusaur  Grass  Poison    525  80      82       83   \n",
       "3  3  VenusaurMega Venusaur  Grass  Poison    625  80     100      123   \n",
       "4  4             Charmander   Fire     NaN    309  39      52       43   \n",
       "\n",
       "   Sp. Atk  Sp. Def  Speed  Generation  \n",
       "0       65       65     45           1  \n",
       "1       80       80     60           1  \n",
       "2      100      100     80           1  \n",
       "3      122      120     80           1  \n",
       "4       60       50     65           1  "
      ]
     },
     "execution_count": 6,
     "metadata": {},
     "output_type": "execute_result"
    }
   ],
   "source": [
    "X=data.drop('Legendary',axis=1)\n",
    "X.head()"
   ]
  },
  {
   "cell_type": "code",
   "execution_count": 13,
   "metadata": {},
   "outputs": [
    {
     "name": "stdout",
     "output_type": "stream",
     "text": [
      "0                Bulbasaur\n",
      "1                  Ivysaur\n",
      "2                 Venusaur\n",
      "3    VenusaurMega Venusaur\n",
      "4               Charmander\n",
      "Name: Name, dtype: object   Type 1  Type 2\n",
      "0  Grass  Poison\n",
      "1  Grass  Poison\n",
      "2  Grass  Poison\n",
      "3  Grass  Poison\n",
      "4   Fire     NaN\n"
     ]
    }
   ],
   "source": [
    "Names=data['Name']\n",
    "Type=data[['Type 1','Type 2']]\n",
    "print(Names.head(),Type.head())"
   ]
  },
  {
   "cell_type": "code",
   "execution_count": 16,
   "metadata": {},
   "outputs": [
    {
     "data": {
      "text/html": [
       "<div>\n",
       "<style scoped>\n",
       "    .dataframe tbody tr th:only-of-type {\n",
       "        vertical-align: middle;\n",
       "    }\n",
       "\n",
       "    .dataframe tbody tr th {\n",
       "        vertical-align: top;\n",
       "    }\n",
       "\n",
       "    .dataframe thead th {\n",
       "        text-align: right;\n",
       "    }\n",
       "</style>\n",
       "<table border=\"1\" class=\"dataframe\">\n",
       "  <thead>\n",
       "    <tr style=\"text-align: right;\">\n",
       "      <th></th>\n",
       "      <th>#</th>\n",
       "      <th>Total</th>\n",
       "      <th>HP</th>\n",
       "      <th>Attack</th>\n",
       "      <th>Defense</th>\n",
       "      <th>Sp. Atk</th>\n",
       "      <th>Sp. Def</th>\n",
       "      <th>Speed</th>\n",
       "      <th>Generation</th>\n",
       "    </tr>\n",
       "  </thead>\n",
       "  <tbody>\n",
       "    <tr>\n",
       "      <th>0</th>\n",
       "      <td>1</td>\n",
       "      <td>318</td>\n",
       "      <td>45</td>\n",
       "      <td>49</td>\n",
       "      <td>49</td>\n",
       "      <td>65</td>\n",
       "      <td>65</td>\n",
       "      <td>45</td>\n",
       "      <td>1</td>\n",
       "    </tr>\n",
       "    <tr>\n",
       "      <th>1</th>\n",
       "      <td>2</td>\n",
       "      <td>405</td>\n",
       "      <td>60</td>\n",
       "      <td>62</td>\n",
       "      <td>63</td>\n",
       "      <td>80</td>\n",
       "      <td>80</td>\n",
       "      <td>60</td>\n",
       "      <td>1</td>\n",
       "    </tr>\n",
       "    <tr>\n",
       "      <th>2</th>\n",
       "      <td>3</td>\n",
       "      <td>525</td>\n",
       "      <td>80</td>\n",
       "      <td>82</td>\n",
       "      <td>83</td>\n",
       "      <td>100</td>\n",
       "      <td>100</td>\n",
       "      <td>80</td>\n",
       "      <td>1</td>\n",
       "    </tr>\n",
       "    <tr>\n",
       "      <th>3</th>\n",
       "      <td>3</td>\n",
       "      <td>625</td>\n",
       "      <td>80</td>\n",
       "      <td>100</td>\n",
       "      <td>123</td>\n",
       "      <td>122</td>\n",
       "      <td>120</td>\n",
       "      <td>80</td>\n",
       "      <td>1</td>\n",
       "    </tr>\n",
       "    <tr>\n",
       "      <th>4</th>\n",
       "      <td>4</td>\n",
       "      <td>309</td>\n",
       "      <td>39</td>\n",
       "      <td>52</td>\n",
       "      <td>43</td>\n",
       "      <td>60</td>\n",
       "      <td>50</td>\n",
       "      <td>65</td>\n",
       "      <td>1</td>\n",
       "    </tr>\n",
       "  </tbody>\n",
       "</table>\n",
       "</div>"
      ],
      "text/plain": [
       "   #  Total  HP  Attack  Defense  Sp. Atk  Sp. Def  Speed  Generation\n",
       "0  1    318  45      49       49       65       65     45           1\n",
       "1  2    405  60      62       63       80       80     60           1\n",
       "2  3    525  80      82       83      100      100     80           1\n",
       "3  3    625  80     100      123      122      120     80           1\n",
       "4  4    309  39      52       43       60       50     65           1"
      ]
     },
     "execution_count": 16,
     "metadata": {},
     "output_type": "execute_result"
    }
   ],
   "source": [
    "X=data.drop(['Name','Type 1','Type 2','Legendary'],axis=1)\n",
    "X.head()"
   ]
  },
  {
   "cell_type": "code",
   "execution_count": 20,
   "metadata": {},
   "outputs": [
    {
     "data": {
      "text/plain": [
       "array([0, 0, 0, 0, 0])"
      ]
     },
     "execution_count": 20,
     "metadata": {},
     "output_type": "execute_result"
    }
   ],
   "source": [
    "y=data['Legendary']\n",
    "y=np.where(y==True,1,0)\n",
    "y[:5]"
   ]
  },
  {
   "cell_type": "code",
   "execution_count": 28,
   "metadata": {},
   "outputs": [],
   "source": [
    "def feature_Scaling(X):\n",
    "    X=(X-X.mean())/X.std()\n",
    "    return X\n",
    "X=feature_Scaling(X)"
   ]
  },
  {
   "cell_type": "code",
   "execution_count": 35,
   "metadata": {},
   "outputs": [
    {
     "name": "stdout",
     "output_type": "stream",
     "text": [
      "(800, 10)\n",
      "(800, 1)\n"
     ]
    }
   ],
   "source": [
    "X=np.append(np.ones([X.shape[0],1]),X,axis=1)\n",
    "print(X.shape)\n",
    "y=np.array(y).reshape([-1,1])\n",
    "print(y.shape)"
   ]
  },
  {
   "cell_type": "code",
   "execution_count": 36,
   "metadata": {},
   "outputs": [
    {
     "data": {
      "text/plain": [
       "(640, 10)"
      ]
     },
     "execution_count": 36,
     "metadata": {},
     "output_type": "execute_result"
    }
   ],
   "source": [
    "X_train=X[:640]\n",
    "X_train.shape"
   ]
  },
  {
   "cell_type": "code",
   "execution_count": 37,
   "metadata": {},
   "outputs": [
    {
     "data": {
      "text/plain": [
       "(160, 10)"
      ]
     },
     "execution_count": 37,
     "metadata": {},
     "output_type": "execute_result"
    }
   ],
   "source": [
    "X_test=X[640:]\n",
    "X_test.shape"
   ]
  },
  {
   "cell_type": "code",
   "execution_count": 38,
   "metadata": {},
   "outputs": [
    {
     "data": {
      "text/plain": [
       "(640, 1)"
      ]
     },
     "execution_count": 38,
     "metadata": {},
     "output_type": "execute_result"
    }
   ],
   "source": [
    "y_train=y[:640]\n",
    "y_train.shape"
   ]
  },
  {
   "cell_type": "code",
   "execution_count": 39,
   "metadata": {},
   "outputs": [
    {
     "data": {
      "text/plain": [
       "(160, 1)"
      ]
     },
     "execution_count": 39,
     "metadata": {},
     "output_type": "execute_result"
    }
   ],
   "source": [
    "y_test=y[640:]\n",
    "y_test.shape"
   ]
  },
  {
   "cell_type": "code",
   "execution_count": 62,
   "metadata": {},
   "outputs": [
    {
     "data": {
      "text/plain": [
       "(10, 1)"
      ]
     },
     "execution_count": 62,
     "metadata": {},
     "output_type": "execute_result"
    }
   ],
   "source": [
    "theta=np.zeros((X.shape[1],1))\n",
    "theta.shape"
   ]
  },
  {
   "cell_type": "code",
   "execution_count": 50,
   "metadata": {},
   "outputs": [],
   "source": [
    "def sigmoid(z):\n",
    "    return 1/(1+np.exp(-z))\n"
   ]
  },
  {
   "cell_type": "code",
   "execution_count": 68,
   "metadata": {},
   "outputs": [],
   "source": [
    "def lrcost(X,y,theta):\n",
    "    m=len(y)\n",
    "    \n",
    "    cost=(-1/(m))*(y*np.log(sigmoid(np.dot(X,theta)))+(1-y)*np.log(1-sigmoid(np.log(np.dot(X,theta))))).sum()\n",
    "    return cost\n",
    "    "
   ]
  },
  {
   "cell_type": "code",
   "execution_count": 69,
   "metadata": {},
   "outputs": [
    {
     "name": "stderr",
     "output_type": "stream",
     "text": [
      "C:\\ProgramData\\Anaconda3\\lib\\site-packages\\ipykernel_launcher.py:4: RuntimeWarning: divide by zero encountered in log\n",
      "  after removing the cwd from sys.path.\n"
     ]
    },
    {
     "data": {
      "text/plain": [
       "0.04657082619387132"
      ]
     },
     "execution_count": 69,
     "metadata": {},
     "output_type": "execute_result"
    }
   ],
   "source": [
    "cost=lrcost(X_train,y_train,theta)\n",
    "cost"
   ]
  },
  {
   "cell_type": "code",
   "execution_count": 238,
   "metadata": {},
   "outputs": [],
   "source": [
    "def gradient_descent(X,y,theta,lr=1,epochs=2000):\n",
    "    m=len(y)\n",
    "    \n",
    "    J_history=[]\n",
    "    for _ in range(epochs):\n",
    "        cost=lrcost(X,y,theta)\n",
    "        grad=(1/m)*np.dot(X.T,sigmoid(np.dot(X,theta))-y)\n",
    "        theta=theta-lr*grad\n",
    "        J_history.append(cost)\n",
    "    return J_history,theta\n",
    "        "
   ]
  },
  {
   "cell_type": "code",
   "execution_count": 239,
   "metadata": {},
   "outputs": [
    {
     "name": "stderr",
     "output_type": "stream",
     "text": [
      "C:\\ProgramData\\Anaconda3\\lib\\site-packages\\ipykernel_launcher.py:4: RuntimeWarning: divide by zero encountered in log\n",
      "  after removing the cwd from sys.path.\n",
      "C:\\ProgramData\\Anaconda3\\lib\\site-packages\\ipykernel_launcher.py:4: RuntimeWarning: invalid value encountered in log\n",
      "  after removing the cwd from sys.path.\n"
     ]
    },
    {
     "data": {
      "text/plain": [
       "array([[-6.68066949],\n",
       "       [ 4.70842096],\n",
       "       [ 1.03215956],\n",
       "       [ 0.5874283 ],\n",
       "       [-0.07476556],\n",
       "       [ 0.66530479],\n",
       "       [ 0.91113227],\n",
       "       [ 0.8971603 ],\n",
       "       [ 1.22916218],\n",
       "       [-3.65493637]])"
      ]
     },
     "execution_count": 239,
     "metadata": {},
     "output_type": "execute_result"
    }
   ],
   "source": [
    "cost,new_theta=gradient_descent(X_train,y_train,theta)\n",
    "new_theta"
   ]
  },
  {
   "cell_type": "code",
   "execution_count": 240,
   "metadata": {},
   "outputs": [],
   "source": [
    "def predict(X,y):\n",
    "    cost,new_theta=gradient_descent(X_train,y_train,theta)\n",
    "    m=len(y)\n",
    "    pred=np.dot(X,new_theta)\n",
    "    \n",
    "    return (np.where(np.dot(X,new_theta)>=0.5,1,0))\n",
    "    "
   ]
  },
  {
   "cell_type": "code",
   "execution_count": 241,
   "metadata": {},
   "outputs": [
    {
     "name": "stderr",
     "output_type": "stream",
     "text": [
      "C:\\ProgramData\\Anaconda3\\lib\\site-packages\\ipykernel_launcher.py:4: RuntimeWarning: divide by zero encountered in log\n",
      "  after removing the cwd from sys.path.\n",
      "C:\\ProgramData\\Anaconda3\\lib\\site-packages\\ipykernel_launcher.py:4: RuntimeWarning: invalid value encountered in log\n",
      "  after removing the cwd from sys.path.\n"
     ]
    },
    {
     "name": "stdout",
     "output_type": "stream",
     "text": [
      "[[0]\n",
      " [0]\n",
      " [0]\n",
      " [0]\n",
      " [0]\n",
      " [0]\n",
      " [0]\n",
      " [0]\n",
      " [0]\n",
      " [0]\n",
      " [0]\n",
      " [0]\n",
      " [0]\n",
      " [0]\n",
      " [0]\n",
      " [0]\n",
      " [0]\n",
      " [0]\n",
      " [0]\n",
      " [0]\n",
      " [0]\n",
      " [0]\n",
      " [0]\n",
      " [0]\n",
      " [0]\n",
      " [0]\n",
      " [0]\n",
      " [0]\n",
      " [0]\n",
      " [0]\n",
      " [0]\n",
      " [0]\n",
      " [0]\n",
      " [0]\n",
      " [0]\n",
      " [0]\n",
      " [0]\n",
      " [0]\n",
      " [0]\n",
      " [0]\n",
      " [0]\n",
      " [0]\n",
      " [0]\n",
      " [0]\n",
      " [0]\n",
      " [0]\n",
      " [0]\n",
      " [0]\n",
      " [0]\n",
      " [0]\n",
      " [0]\n",
      " [0]\n",
      " [0]\n",
      " [0]\n",
      " [0]\n",
      " [0]\n",
      " [1]\n",
      " [0]\n",
      " [1]\n",
      " [1]\n",
      " [0]\n",
      " [1]\n",
      " [1]\n",
      " [1]\n",
      " [1]\n",
      " [1]\n",
      " [1]\n",
      " [1]\n",
      " [1]\n",
      " [0]\n",
      " [1]\n",
      " [1]\n",
      " [1]\n",
      " [1]\n",
      " [1]\n",
      " [1]\n",
      " [1]\n",
      " [1]\n",
      " [0]\n",
      " [0]\n",
      " [0]\n",
      " [0]\n",
      " [0]\n",
      " [0]\n",
      " [0]\n",
      " [0]\n",
      " [0]\n",
      " [0]\n",
      " [0]\n",
      " [0]\n",
      " [0]\n",
      " [0]\n",
      " [0]\n",
      " [0]\n",
      " [0]\n",
      " [0]\n",
      " [0]\n",
      " [0]\n",
      " [0]\n",
      " [0]\n",
      " [0]\n",
      " [0]\n",
      " [0]\n",
      " [0]\n",
      " [0]\n",
      " [0]\n",
      " [0]\n",
      " [0]\n",
      " [0]\n",
      " [0]\n",
      " [0]\n",
      " [0]\n",
      " [0]\n",
      " [0]\n",
      " [0]\n",
      " [0]\n",
      " [0]\n",
      " [0]\n",
      " [0]\n",
      " [0]\n",
      " [0]\n",
      " [0]\n",
      " [0]\n",
      " [0]\n",
      " [0]\n",
      " [0]\n",
      " [0]\n",
      " [0]\n",
      " [0]\n",
      " [0]\n",
      " [0]\n",
      " [0]\n",
      " [0]\n",
      " [0]\n",
      " [0]\n",
      " [0]\n",
      " [1]\n",
      " [0]\n",
      " [0]\n",
      " [0]\n",
      " [0]\n",
      " [0]\n",
      " [0]\n",
      " [0]\n",
      " [0]\n",
      " [0]\n",
      " [0]\n",
      " [0]\n",
      " [0]\n",
      " [0]\n",
      " [0]\n",
      " [0]\n",
      " [1]\n",
      " [1]\n",
      " [1]\n",
      " [1]\n",
      " [1]\n",
      " [1]\n",
      " [1]\n",
      " [0]]\n"
     ]
    }
   ],
   "source": [
    "pre=predict(X_test,y_test)\n",
    "print(pre)\n"
   ]
  },
  {
   "cell_type": "code",
   "execution_count": 242,
   "metadata": {},
   "outputs": [
    {
     "data": {
      "text/plain": [
       "0.93125"
      ]
     },
     "execution_count": 242,
     "metadata": {},
     "output_type": "execute_result"
    }
   ],
   "source": [
    "from sklearn.metrics import accuracy_score\n",
    "acc=accuracy_score(y_test,pre)\n",
    "acc"
   ]
  },
  {
   "cell_type": "code",
   "execution_count": 243,
   "metadata": {},
   "outputs": [
    {
     "data": {
      "text/plain": [
       "(160,)"
      ]
     },
     "execution_count": 243,
     "metadata": {},
     "output_type": "execute_result"
    }
   ],
   "source": [
    "Names_test=Names[640:]\n",
    "Names_test.shape"
   ]
  },
  {
   "cell_type": "code",
   "execution_count": 244,
   "metadata": {},
   "outputs": [
    {
     "data": {
      "text/plain": [
       "(160, 2)"
      ]
     },
     "execution_count": 244,
     "metadata": {},
     "output_type": "execute_result"
    }
   ],
   "source": [
    "Type_test=Type[640:]\n",
    "Type_test.shape"
   ]
  },
  {
   "cell_type": "code",
   "execution_count": 245,
   "metadata": {},
   "outputs": [
    {
     "name": "stdout",
     "output_type": "stream",
     "text": [
      "['Psychic' nan]\n"
     ]
    }
   ],
   "source": [
    "Type_test=np.array(Type_test)\n",
    "print(Type_test[0][:])"
   ]
  },
  {
   "cell_type": "code",
   "execution_count": 246,
   "metadata": {},
   "outputs": [
    {
     "name": "stdout",
     "output_type": "stream",
     "text": [
      "Reuniclus is ['Psychic' nan] Type and is not a Legendary Pokemon\n",
      "Ducklett is ['Water' 'Flying'] Type and is not a Legendary Pokemon\n",
      "Swanna is ['Water' 'Flying'] Type and is not a Legendary Pokemon\n",
      "Vanillite is ['Ice' nan] Type and is not a Legendary Pokemon\n",
      "Vanillish is ['Ice' nan] Type and is not a Legendary Pokemon\n",
      "Vanilluxe is ['Ice' nan] Type and is not a Legendary Pokemon\n",
      "Deerling is ['Normal' 'Grass'] Type and is not a Legendary Pokemon\n",
      "Sawsbuck is ['Normal' 'Grass'] Type and is not a Legendary Pokemon\n",
      "Emolga is ['Electric' 'Flying'] Type and is not a Legendary Pokemon\n",
      "Karrablast is ['Bug' nan] Type and is not a Legendary Pokemon\n",
      "Escavalier is ['Bug' 'Steel'] Type and is not a Legendary Pokemon\n",
      "Foongus is ['Grass' 'Poison'] Type and is not a Legendary Pokemon\n",
      "Amoonguss is ['Grass' 'Poison'] Type and is not a Legendary Pokemon\n",
      "Frillish is ['Water' 'Ghost'] Type and is not a Legendary Pokemon\n",
      "Jellicent is ['Water' 'Ghost'] Type and is not a Legendary Pokemon\n",
      "Alomomola is ['Water' nan] Type and is not a Legendary Pokemon\n",
      "Joltik is ['Bug' 'Electric'] Type and is not a Legendary Pokemon\n",
      "Galvantula is ['Bug' 'Electric'] Type and is not a Legendary Pokemon\n",
      "Ferroseed is ['Grass' 'Steel'] Type and is not a Legendary Pokemon\n",
      "Ferrothorn is ['Grass' 'Steel'] Type and is not a Legendary Pokemon\n",
      "Klink is ['Steel' nan] Type and is not a Legendary Pokemon\n",
      "Klang is ['Steel' nan] Type and is not a Legendary Pokemon\n",
      "Klinklang is ['Steel' nan] Type and is not a Legendary Pokemon\n",
      "Tynamo is ['Electric' nan] Type and is not a Legendary Pokemon\n",
      "Eelektrik is ['Electric' nan] Type and is not a Legendary Pokemon\n",
      "Eelektross is ['Electric' nan] Type and is not a Legendary Pokemon\n",
      "Elgyem is ['Psychic' nan] Type and is not a Legendary Pokemon\n",
      "Beheeyem is ['Psychic' nan] Type and is not a Legendary Pokemon\n",
      "Litwick is ['Ghost' 'Fire'] Type and is not a Legendary Pokemon\n",
      "Lampent is ['Ghost' 'Fire'] Type and is not a Legendary Pokemon\n",
      "Chandelure is ['Ghost' 'Fire'] Type and is not a Legendary Pokemon\n",
      "Axew is ['Dragon' nan] Type and is not a Legendary Pokemon\n",
      "Fraxure is ['Dragon' nan] Type and is not a Legendary Pokemon\n",
      "Haxorus is ['Dragon' nan] Type and is not a Legendary Pokemon\n",
      "Cubchoo is ['Ice' nan] Type and is not a Legendary Pokemon\n",
      "Beartic is ['Ice' nan] Type and is not a Legendary Pokemon\n",
      "Cryogonal is ['Ice' nan] Type and is not a Legendary Pokemon\n",
      "Shelmet is ['Bug' nan] Type and is not a Legendary Pokemon\n",
      "Accelgor is ['Bug' nan] Type and is not a Legendary Pokemon\n",
      "Stunfisk is ['Ground' 'Electric'] Type and is not a Legendary Pokemon\n",
      "Mienfoo is ['Fighting' nan] Type and is not a Legendary Pokemon\n",
      "Mienshao is ['Fighting' nan] Type and is not a Legendary Pokemon\n",
      "Druddigon is ['Dragon' nan] Type and is not a Legendary Pokemon\n",
      "Golett is ['Ground' 'Ghost'] Type and is not a Legendary Pokemon\n",
      "Golurk is ['Ground' 'Ghost'] Type and is not a Legendary Pokemon\n",
      "Pawniard is ['Dark' 'Steel'] Type and is not a Legendary Pokemon\n",
      "Bisharp is ['Dark' 'Steel'] Type and is not a Legendary Pokemon\n",
      "Bouffalant is ['Normal' nan] Type and is not a Legendary Pokemon\n",
      "Rufflet is ['Normal' 'Flying'] Type and is not a Legendary Pokemon\n",
      "Braviary is ['Normal' 'Flying'] Type and is not a Legendary Pokemon\n",
      "Vullaby is ['Dark' 'Flying'] Type and is not a Legendary Pokemon\n",
      "Mandibuzz is ['Dark' 'Flying'] Type and is not a Legendary Pokemon\n",
      "Heatmor is ['Fire' nan] Type and is not a Legendary Pokemon\n",
      "Durant is ['Bug' 'Steel'] Type and is not a Legendary Pokemon\n",
      "Deino is ['Dark' 'Dragon'] Type and is not a Legendary Pokemon\n",
      "Zweilous is ['Dark' 'Dragon'] Type and is not a Legendary Pokemon\n",
      "Hydreigon is ['Dark' 'Dragon'] Type and is a Legendary Pokemon\n",
      "Larvesta is ['Bug' 'Fire'] Type and is not a Legendary Pokemon\n",
      "Volcarona is ['Bug' 'Fire'] Type and is a Legendary Pokemon\n",
      "Cobalion is ['Steel' 'Fighting'] Type and is a Legendary Pokemon\n",
      "Terrakion is ['Rock' 'Fighting'] Type and is not a Legendary Pokemon\n",
      "Virizion is ['Grass' 'Fighting'] Type and is a Legendary Pokemon\n",
      "TornadusIncarnate Forme is ['Flying' nan] Type and is a Legendary Pokemon\n",
      "TornadusTherian Forme is ['Flying' nan] Type and is a Legendary Pokemon\n",
      "ThundurusIncarnate Forme is ['Electric' 'Flying'] Type and is a Legendary Pokemon\n",
      "ThundurusTherian Forme is ['Electric' 'Flying'] Type and is a Legendary Pokemon\n",
      "Reshiram is ['Dragon' 'Fire'] Type and is a Legendary Pokemon\n",
      "Zekrom is ['Dragon' 'Electric'] Type and is a Legendary Pokemon\n",
      "LandorusIncarnate Forme is ['Ground' 'Flying'] Type and is a Legendary Pokemon\n",
      "LandorusTherian Forme is ['Ground' 'Flying'] Type and is not a Legendary Pokemon\n",
      "Kyurem is ['Dragon' 'Ice'] Type and is a Legendary Pokemon\n",
      "KyuremBlack Kyurem is ['Dragon' 'Ice'] Type and is a Legendary Pokemon\n",
      "KyuremWhite Kyurem is ['Dragon' 'Ice'] Type and is a Legendary Pokemon\n",
      "KeldeoOrdinary Forme is ['Water' 'Fighting'] Type and is a Legendary Pokemon\n",
      "KeldeoResolute Forme is ['Water' 'Fighting'] Type and is a Legendary Pokemon\n",
      "MeloettaAria Forme is ['Normal' 'Psychic'] Type and is a Legendary Pokemon\n",
      "MeloettaPirouette Forme is ['Normal' 'Fighting'] Type and is a Legendary Pokemon\n",
      "Genesect is ['Bug' 'Steel'] Type and is a Legendary Pokemon\n",
      "Chespin is ['Grass' nan] Type and is not a Legendary Pokemon\n",
      "Quilladin is ['Grass' nan] Type and is not a Legendary Pokemon\n",
      "Chesnaught is ['Grass' 'Fighting'] Type and is not a Legendary Pokemon\n",
      "Fennekin is ['Fire' nan] Type and is not a Legendary Pokemon\n",
      "Braixen is ['Fire' nan] Type and is not a Legendary Pokemon\n",
      "Delphox is ['Fire' 'Psychic'] Type and is not a Legendary Pokemon\n",
      "Froakie is ['Water' nan] Type and is not a Legendary Pokemon\n",
      "Frogadier is ['Water' nan] Type and is not a Legendary Pokemon\n",
      "Greninja is ['Water' 'Dark'] Type and is not a Legendary Pokemon\n",
      "Bunnelby is ['Normal' nan] Type and is not a Legendary Pokemon\n",
      "Diggersby is ['Normal' 'Ground'] Type and is not a Legendary Pokemon\n",
      "Fletchling is ['Normal' 'Flying'] Type and is not a Legendary Pokemon\n",
      "Fletchinder is ['Fire' 'Flying'] Type and is not a Legendary Pokemon\n",
      "Talonflame is ['Fire' 'Flying'] Type and is not a Legendary Pokemon\n",
      "Scatterbug is ['Bug' nan] Type and is not a Legendary Pokemon\n",
      "Spewpa is ['Bug' nan] Type and is not a Legendary Pokemon\n",
      "Vivillon is ['Bug' 'Flying'] Type and is not a Legendary Pokemon\n",
      "Litleo is ['Fire' 'Normal'] Type and is not a Legendary Pokemon\n",
      "Pyroar is ['Fire' 'Normal'] Type and is not a Legendary Pokemon\n",
      "Flabébé is ['Fairy' nan] Type and is not a Legendary Pokemon\n",
      "Floette is ['Fairy' nan] Type and is not a Legendary Pokemon\n",
      "Florges is ['Fairy' nan] Type and is not a Legendary Pokemon\n",
      "Skiddo is ['Grass' nan] Type and is not a Legendary Pokemon\n",
      "Gogoat is ['Grass' nan] Type and is not a Legendary Pokemon\n",
      "Pancham is ['Fighting' nan] Type and is not a Legendary Pokemon\n",
      "Pangoro is ['Fighting' 'Dark'] Type and is not a Legendary Pokemon\n",
      "Furfrou is ['Normal' nan] Type and is not a Legendary Pokemon\n",
      "Espurr is ['Psychic' nan] Type and is not a Legendary Pokemon\n",
      "MeowsticMale is ['Psychic' nan] Type and is not a Legendary Pokemon\n",
      "MeowsticFemale is ['Psychic' nan] Type and is not a Legendary Pokemon\n",
      "Honedge is ['Steel' 'Ghost'] Type and is not a Legendary Pokemon\n",
      "Doublade is ['Steel' 'Ghost'] Type and is not a Legendary Pokemon\n",
      "AegislashBlade Forme is ['Steel' 'Ghost'] Type and is not a Legendary Pokemon\n",
      "AegislashShield Forme is ['Steel' 'Ghost'] Type and is not a Legendary Pokemon\n",
      "Spritzee is ['Fairy' nan] Type and is not a Legendary Pokemon\n",
      "Aromatisse is ['Fairy' nan] Type and is not a Legendary Pokemon\n",
      "Swirlix is ['Fairy' nan] Type and is not a Legendary Pokemon\n",
      "Slurpuff is ['Fairy' nan] Type and is not a Legendary Pokemon\n",
      "Inkay is ['Dark' 'Psychic'] Type and is not a Legendary Pokemon\n",
      "Malamar is ['Dark' 'Psychic'] Type and is not a Legendary Pokemon\n",
      "Binacle is ['Rock' 'Water'] Type and is not a Legendary Pokemon\n",
      "Barbaracle is ['Rock' 'Water'] Type and is not a Legendary Pokemon\n",
      "Skrelp is ['Poison' 'Water'] Type and is not a Legendary Pokemon\n",
      "Dragalge is ['Poison' 'Dragon'] Type and is not a Legendary Pokemon\n",
      "Clauncher is ['Water' nan] Type and is not a Legendary Pokemon\n",
      "Clawitzer is ['Water' nan] Type and is not a Legendary Pokemon\n",
      "Helioptile is ['Electric' 'Normal'] Type and is not a Legendary Pokemon\n",
      "Heliolisk is ['Electric' 'Normal'] Type and is not a Legendary Pokemon\n",
      "Tyrunt is ['Rock' 'Dragon'] Type and is not a Legendary Pokemon\n",
      "Tyrantrum is ['Rock' 'Dragon'] Type and is not a Legendary Pokemon\n",
      "Amaura is ['Rock' 'Ice'] Type and is not a Legendary Pokemon\n",
      "Aurorus is ['Rock' 'Ice'] Type and is not a Legendary Pokemon\n",
      "Sylveon is ['Fairy' nan] Type and is not a Legendary Pokemon\n",
      "Hawlucha is ['Fighting' 'Flying'] Type and is not a Legendary Pokemon\n",
      "Dedenne is ['Electric' 'Fairy'] Type and is not a Legendary Pokemon\n",
      "Carbink is ['Rock' 'Fairy'] Type and is not a Legendary Pokemon\n",
      "Goomy is ['Dragon' nan] Type and is not a Legendary Pokemon\n",
      "Sliggoo is ['Dragon' nan] Type and is not a Legendary Pokemon\n",
      "Goodra is ['Dragon' nan] Type and is a Legendary Pokemon\n",
      "Klefki is ['Steel' 'Fairy'] Type and is not a Legendary Pokemon\n",
      "Phantump is ['Ghost' 'Grass'] Type and is not a Legendary Pokemon\n",
      "Trevenant is ['Ghost' 'Grass'] Type and is not a Legendary Pokemon\n",
      "PumpkabooAverage Size is ['Ghost' 'Grass'] Type and is not a Legendary Pokemon\n",
      "PumpkabooSmall Size is ['Ghost' 'Grass'] Type and is not a Legendary Pokemon\n",
      "PumpkabooLarge Size is ['Ghost' 'Grass'] Type and is not a Legendary Pokemon\n",
      "PumpkabooSuper Size is ['Ghost' 'Grass'] Type and is not a Legendary Pokemon\n",
      "GourgeistAverage Size is ['Ghost' 'Grass'] Type and is not a Legendary Pokemon\n",
      "GourgeistSmall Size is ['Ghost' 'Grass'] Type and is not a Legendary Pokemon\n",
      "GourgeistLarge Size is ['Ghost' 'Grass'] Type and is not a Legendary Pokemon\n",
      "GourgeistSuper Size is ['Ghost' 'Grass'] Type and is not a Legendary Pokemon\n",
      "Bergmite is ['Ice' nan] Type and is not a Legendary Pokemon\n",
      "Avalugg is ['Ice' nan] Type and is not a Legendary Pokemon\n",
      "Noibat is ['Flying' 'Dragon'] Type and is not a Legendary Pokemon\n",
      "Noivern is ['Flying' 'Dragon'] Type and is not a Legendary Pokemon\n",
      "Xerneas is ['Fairy' nan] Type and is a Legendary Pokemon\n",
      "Yveltal is ['Dark' 'Flying'] Type and is a Legendary Pokemon\n",
      "Zygarde50% Forme is ['Dragon' 'Ground'] Type and is a Legendary Pokemon\n",
      "Diancie is ['Rock' 'Fairy'] Type and is a Legendary Pokemon\n",
      "DiancieMega Diancie is ['Rock' 'Fairy'] Type and is a Legendary Pokemon\n",
      "HoopaHoopa Confined is ['Psychic' 'Ghost'] Type and is a Legendary Pokemon\n",
      "HoopaHoopa Unbound is ['Psychic' 'Dark'] Type and is a Legendary Pokemon\n",
      "Volcanion is ['Fire' 'Water'] Type and is not a Legendary Pokemon\n"
     ]
    }
   ],
   "source": [
    "for i in range(160):\n",
    "    if(pre[i]==0):\n",
    "        print(\"{} is {} Type and is not a Legendary Pokemon\".format(Names_test[i+640],Type_test[i][:]))\n",
    "    else:\n",
    "        print(\"{} is {} Type and is a Legendary Pokemon\".format(Names_test[i+640],Type_test[i][:]))"
   ]
  },
  {
   "cell_type": "markdown",
   "metadata": {},
   "source": [
    "## Misclassified points"
   ]
  },
  {
   "cell_type": "code",
   "execution_count": 247,
   "metadata": {},
   "outputs": [
    {
     "data": {
      "text/plain": [
       "array([[ 0],\n",
       "       [ 0],\n",
       "       [ 0],\n",
       "       [ 0],\n",
       "       [ 0],\n",
       "       [ 0],\n",
       "       [ 0],\n",
       "       [ 0],\n",
       "       [ 0],\n",
       "       [ 0],\n",
       "       [ 0],\n",
       "       [ 0],\n",
       "       [ 0],\n",
       "       [ 0],\n",
       "       [ 0],\n",
       "       [ 0],\n",
       "       [ 0],\n",
       "       [ 0],\n",
       "       [ 0],\n",
       "       [ 0],\n",
       "       [ 0],\n",
       "       [ 0],\n",
       "       [ 0],\n",
       "       [ 0],\n",
       "       [ 0],\n",
       "       [ 0],\n",
       "       [ 0],\n",
       "       [ 0],\n",
       "       [ 0],\n",
       "       [ 0],\n",
       "       [ 0],\n",
       "       [ 0],\n",
       "       [ 0],\n",
       "       [ 0],\n",
       "       [ 0],\n",
       "       [ 0],\n",
       "       [ 0],\n",
       "       [ 0],\n",
       "       [ 0],\n",
       "       [ 0],\n",
       "       [ 0],\n",
       "       [ 0],\n",
       "       [ 0],\n",
       "       [ 0],\n",
       "       [ 0],\n",
       "       [ 0],\n",
       "       [ 0],\n",
       "       [ 0],\n",
       "       [ 0],\n",
       "       [ 0],\n",
       "       [ 0],\n",
       "       [ 0],\n",
       "       [ 0],\n",
       "       [ 0],\n",
       "       [ 0],\n",
       "       [ 0],\n",
       "       [ 1],\n",
       "       [ 0],\n",
       "       [ 1],\n",
       "       [ 0],\n",
       "       [-1],\n",
       "       [ 0],\n",
       "       [ 0],\n",
       "       [ 0],\n",
       "       [ 0],\n",
       "       [ 0],\n",
       "       [ 0],\n",
       "       [ 0],\n",
       "       [ 0],\n",
       "       [-1],\n",
       "       [ 0],\n",
       "       [ 0],\n",
       "       [ 0],\n",
       "       [ 1],\n",
       "       [ 1],\n",
       "       [ 1],\n",
       "       [ 1],\n",
       "       [ 1],\n",
       "       [ 0],\n",
       "       [ 0],\n",
       "       [ 0],\n",
       "       [ 0],\n",
       "       [ 0],\n",
       "       [ 0],\n",
       "       [ 0],\n",
       "       [ 0],\n",
       "       [ 0],\n",
       "       [ 0],\n",
       "       [ 0],\n",
       "       [ 0],\n",
       "       [ 0],\n",
       "       [ 0],\n",
       "       [ 0],\n",
       "       [ 0],\n",
       "       [ 0],\n",
       "       [ 0],\n",
       "       [ 0],\n",
       "       [ 0],\n",
       "       [ 0],\n",
       "       [ 0],\n",
       "       [ 0],\n",
       "       [ 0],\n",
       "       [ 0],\n",
       "       [ 0],\n",
       "       [ 0],\n",
       "       [ 0],\n",
       "       [ 0],\n",
       "       [ 0],\n",
       "       [ 0],\n",
       "       [ 0],\n",
       "       [ 0],\n",
       "       [ 0],\n",
       "       [ 0],\n",
       "       [ 0],\n",
       "       [ 0],\n",
       "       [ 0],\n",
       "       [ 0],\n",
       "       [ 0],\n",
       "       [ 0],\n",
       "       [ 0],\n",
       "       [ 0],\n",
       "       [ 0],\n",
       "       [ 0],\n",
       "       [ 0],\n",
       "       [ 0],\n",
       "       [ 0],\n",
       "       [ 0],\n",
       "       [ 0],\n",
       "       [ 0],\n",
       "       [ 0],\n",
       "       [ 0],\n",
       "       [ 0],\n",
       "       [ 0],\n",
       "       [ 0],\n",
       "       [ 0],\n",
       "       [ 0],\n",
       "       [ 1],\n",
       "       [ 0],\n",
       "       [ 0],\n",
       "       [ 0],\n",
       "       [ 0],\n",
       "       [ 0],\n",
       "       [ 0],\n",
       "       [ 0],\n",
       "       [ 0],\n",
       "       [ 0],\n",
       "       [ 0],\n",
       "       [ 0],\n",
       "       [ 0],\n",
       "       [ 0],\n",
       "       [ 0],\n",
       "       [ 0],\n",
       "       [ 0],\n",
       "       [ 0],\n",
       "       [ 0],\n",
       "       [ 0],\n",
       "       [ 0],\n",
       "       [ 0],\n",
       "       [ 0],\n",
       "       [-1]])"
      ]
     },
     "execution_count": 247,
     "metadata": {},
     "output_type": "execute_result"
    }
   ],
   "source": [
    "pre-y_test"
   ]
  },
  {
   "cell_type": "code",
   "execution_count": 251,
   "metadata": {},
   "outputs": [
    {
     "name": "stdout",
     "output_type": "stream",
     "text": [
      "Hydreigon is a Misclassified Pokemon\n",
      "Volcarona is a Misclassified Pokemon\n",
      "Terrakion is a Misclassified Pokemon\n",
      "LandorusTherian Forme is a Misclassified Pokemon\n",
      "KeldeoOrdinary Forme is a Misclassified Pokemon\n",
      "KeldeoResolute Forme is a Misclassified Pokemon\n",
      "MeloettaAria Forme is a Misclassified Pokemon\n",
      "MeloettaPirouette Forme is a Misclassified Pokemon\n",
      "Genesect is a Misclassified Pokemon\n",
      "Goodra is a Misclassified Pokemon\n",
      "Volcanion is a Misclassified Pokemon\n"
     ]
    }
   ],
   "source": [
    "for i in range(0,160):\n",
    "    if((pre[i]-y_test[i])!=0):\n",
    "        print(\"{} is a Misclassified Pokemon\".format(Names_test[640+i]))"
   ]
  },
  {
   "cell_type": "code",
   "execution_count": null,
   "metadata": {},
   "outputs": [],
   "source": []
  }
 ],
 "metadata": {
  "kernelspec": {
   "display_name": "Python 3",
   "language": "python",
   "name": "python3"
  },
  "language_info": {
   "codemirror_mode": {
    "name": "ipython",
    "version": 3
   },
   "file_extension": ".py",
   "mimetype": "text/x-python",
   "name": "python",
   "nbconvert_exporter": "python",
   "pygments_lexer": "ipython3",
   "version": "3.7.1"
  }
 },
 "nbformat": 4,
 "nbformat_minor": 2
}
